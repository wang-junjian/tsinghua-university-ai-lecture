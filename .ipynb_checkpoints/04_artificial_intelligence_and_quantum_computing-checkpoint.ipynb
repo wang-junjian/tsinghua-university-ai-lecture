{
 "cells": [
  {
   "cell_type": "markdown",
   "metadata": {},
   "source": [
    "# 清华第四课：人工智能和量子计算"
   ]
  },
  {
   "cell_type": "markdown",
   "metadata": {},
   "source": [
    "# 量子计算"
   ]
  },
  {
   "cell_type": "markdown",
   "metadata": {},
   "source": [
    "## 量子计算=利用量子物理非经典性质的计算\n",
    "\n",
    "> 到了80年代的时候，有几个人独立提出了量子计算的思想，比较有名的有理查德·费曼（Richard Phillips Feynman）。\n",
    "\n",
    "> 费曼在一次演讲里面提到，模拟量子系统在经典计算机中很难实现，最好得用量子计算机。\n",
    "\n",
    "> `模拟量子系统`现在仍然是量子计算最主要的动机。\n",
    "\n",
    "> 比如`材料科学`和`西药发现`，这两个产业研究方法都用到了模拟量子系统，这两个领域也是未来有可能应用的场景。治病就是小分子和蛋白质的化学反应。\n",
    "\n",
    "> 1994年，Peter Shor一篇论文里提出`素数分解`和`自然对数`的量子算法。\n",
    "\n",
    "> 为什么这两个算法很重要？因为可以破解两个广泛使用的公钥密码系统RSA和Deffie-Hellman。\n",
    "\n",
    "## Strong Church-Turing Thesis受到量子计算的挑战，量子计算的步骤数远小于经典"
   ]
  },
  {
   "cell_type": "markdown",
   "metadata": {},
   "source": [
    "## 量子计算是什么？\n",
    "\n",
    "> 量子力学从抽象来看就是线性代数\n",
    "\n",
    "* 经典比特：\"0\"或\"1\"\n",
    "* 随机比特：\"0\"和\"1\"的概率分布。1/2\"0\"+1/2\"1\"（完美）.51\"0\"+.49\"1\"(不完美)\n",
    "* 量子比特：\"0\"和\"1\"的长度为1的线性组合。1/√2\"0\"-1/√2\"1\"，是系数组合，可以是正的也可以是负的。"
   ]
  },
  {
   "cell_type": "markdown",
   "metadata": {},
   "source": [
    "## 为什么量子计算比经典计算要快？\n",
    "\n",
    "> 每个节点可以有指数个路径\n",
    "\n",
    "> 量子计算的驱动力=物理模拟+破解密码+AI/大数据\n",
    "\n",
    "![](images/04_comparison_of_algorithms.jpeg)"
   ]
  },
  {
   "cell_type": "markdown",
   "metadata": {},
   "source": [
    "## 量子AI\n",
    "\n",
    "### 量子加速AI常用算法和使用量子模型\n",
    "![](images/04_quantum_ai.jpeg)\n",
    "\n",
    "### 全栈量子计算\n",
    "![](images/04_full-stack_quantum_computation.png)\n",
    "\n",
    "### 量子计算组成\n",
    "![](images/04_quantum_computing_composition.png)"
   ]
  },
  {
   "cell_type": "markdown",
   "metadata": {},
   "source": [
    "# 人工智能和量子计算"
   ]
  },
  {
   "cell_type": "markdown",
   "metadata": {},
   "source": [
    "## 量子计算机应用\n",
    "\n",
    "* 信息安全（公钥体系等）\n",
    "* 量子模拟（新材料、分子药品等模拟）\n",
    "* 量子优化（系统优化等）\n",
    "* 量子人工智能"
   ]
  },
  {
   "cell_type": "markdown",
   "metadata": {},
   "source": [
    "## 参考资料\n",
    "\n",
    "* [【清华AI公开课】施尧耘：量子计算终将实现；段路明：大规模量子计算还任重道远](http://www.sohu.com/a/230887027_473283)"
   ]
  }
 ],
 "metadata": {
  "kernelspec": {
   "display_name": "Python 3",
   "language": "python",
   "name": "python3"
  },
  "language_info": {
   "codemirror_mode": {
    "name": "ipython",
    "version": 3
   },
   "file_extension": ".py",
   "mimetype": "text/x-python",
   "name": "python",
   "nbconvert_exporter": "python",
   "pygments_lexer": "ipython3",
   "version": "3.6.4"
  }
 },
 "nbformat": 4,
 "nbformat_minor": 2
}
